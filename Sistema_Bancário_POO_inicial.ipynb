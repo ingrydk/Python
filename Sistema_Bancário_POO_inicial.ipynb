{
  "nbformat": 4,
  "nbformat_minor": 0,
  "metadata": {
    "colab": {
      "provenance": [],
      "authorship_tag": "ABX9TyOH8msKVsvGYcNbhJO+VLTC",
      "include_colab_link": true
    },
    "kernelspec": {
      "name": "python3",
      "display_name": "Python 3"
    },
    "language_info": {
      "name": "python"
    }
  },
  "cells": [
    {
      "cell_type": "markdown",
      "metadata": {
        "id": "view-in-github",
        "colab_type": "text"
      },
      "source": [
        "<a href=\"https://colab.research.google.com/github/ingrydk/Python/blob/main/Sistema_Banc%C3%A1rio_POO_inicial.ipynb\" target=\"_parent\"><img src=\"https://colab.research.google.com/assets/colab-badge.svg\" alt=\"Open In Colab\"/></a>"
      ]
    },
    {
      "cell_type": "code",
      "source": [],
      "metadata": {
        "id": "mbwwJjpUwYTQ"
      },
      "execution_count": null,
      "outputs": []
    },
    {
      "cell_type": "code",
      "execution_count": 1,
      "metadata": {
        "colab": {
          "base_uri": "https://localhost:8080/"
        },
        "id": "b_VuNy4hvY7O",
        "outputId": "4dd1c989-b7f6-4e3a-d166-82a7d670c34f"
      },
      "outputs": [
        {
          "output_type": "stream",
          "name": "stdout",
          "text": [
            "Extrato CC N° 1\n",
            "\n",
            "DEPOSITO      1000.00\n",
            "SAQUE           45.00\n",
            "\n",
            " Saldo:     955.00\n",
            "\n"
          ]
        }
      ],
      "source": [
        "class Cliente:\n",
        "    def __init__(self, nome, cpf, data_nascimento):\n",
        "        self.nome = nome\n",
        "        self.cpf = cpf\n",
        "        self.data_nascimento=data_nascimento\n",
        "\n",
        "class Conta:\n",
        "    def __init__(self, cliente, numero):\n",
        "        self.saldo=0\n",
        "        self.transacoes = []\n",
        "        self.cliente=cliente\n",
        "        self.numero=numero\n",
        "\n",
        "    def saque(self, valor):\n",
        "        if self.saldo >= valor:\n",
        "            self.saldo -= valor\n",
        "            self.transacoes.append([\"SAQUE\",valor])\n",
        "        else:\n",
        "            print(\"------------------------------------------------\\n Saque Indisponível. Seu saldo atual é de R$\", self.saldo,\".\\n------------------------------------------------\")\n",
        "\n",
        "    def deposito(self,valor):\n",
        "        self.saldo += valor\n",
        "        self.transacoes.append([\"DEPOSITO\" ,valor])\n",
        "\n",
        "\n",
        "    def extrato(self):\n",
        "        print(f\"Extrato CC N° {self.numero}\\n\")\n",
        "        for o in self.transacoes:\n",
        "            print(f\"{o[0]:10s} {o[1]:10.2f}\")\n",
        "        print(f\"\\n Saldo: {self.saldo:10.2f}\\n\")\n",
        "\n",
        "\n",
        "joao = Cliente(\"Joao Julião\",\"114788452\",\"6596\")\n",
        "conta1 = Conta([joao], 1)\n",
        "conta1.deposito(1000)\n",
        "conta1.saque(45)\n",
        "conta1.extrato()\n"
      ]
    }
  ]
}