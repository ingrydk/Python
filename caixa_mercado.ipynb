{
  "nbformat": 4,
  "nbformat_minor": 0,
  "metadata": {
    "colab": {
      "provenance": [],
      "authorship_tag": "ABX9TyP5sbKPLRg8l8428X35TjwB",
      "include_colab_link": true
    },
    "kernelspec": {
      "name": "python3",
      "display_name": "Python 3"
    },
    "language_info": {
      "name": "python"
    }
  },
  "cells": [
    {
      "cell_type": "markdown",
      "metadata": {
        "id": "view-in-github",
        "colab_type": "text"
      },
      "source": [
        "<a href=\"https://colab.research.google.com/github/ingrydk/Python/blob/main/caixa_mercado.ipynb\" target=\"_parent\"><img src=\"https://colab.research.google.com/assets/colab-badge.svg\" alt=\"Open In Colab\"/></a>"
      ]
    },
    {
      "cell_type": "markdown",
      "source": [
        "# **Caixa de Mercado**\n",
        "\n",
        "Até o momento, reconhece o alimento por código. Falta implementar as opções de pagamento e deixar uma indicação de tecla para ele parar loop sem a necessidade de informar a quantidade de produtos que serão passadas."
      ],
      "metadata": {
        "id": "vJ6YJUgUSctf"
      }
    },
    {
      "cell_type": "code",
      "execution_count": null,
      "metadata": {
        "id": "Q7tdxbqwPzmR"
      },
      "outputs": [],
      "source": [
        "mercadorias = {\n",
        "            'banana':{'codigo':1, 'preco': 5},\n",
        "            'maça':{'codigo':2, 'preco': 2},\n",
        "            'pera':{'codigo':3, 'preco': 6},\n",
        "            'uva':{'codigo':4, 'preco': 4},\n",
        "            'abacate':{'codigo':5, 'preco': 8}\n",
        "        }\n",
        "\n",
        "class Teste():\n",
        "    def __init__(self):\n",
        "        print('======INICIANDO O PROCESSO========')\n",
        "        pass\n",
        "\n",
        "    def passa_mercadoria(self, quant_mercadorias):\n",
        "        self.quant_mercadorias = quant_mercadorias\n",
        "        lista=\"\"\n",
        "        total = 0\n",
        "        for i in range(int(self.quant_mercadorias)):\n",
        "            while True:\n",
        "                self.codigo = input(f\"Informe o código do produto {i+1} \\n\")\n",
        "                for produto, info in mercadorias.items():\n",
        "                    if int(self.codigo)== int(info['codigo']):\n",
        "                        lista+= (f\"{produto}: R${info['preco']}\\n\")\n",
        "                        total += int(f\"{info['preco']}\")\n",
        "                        break\n",
        "                else:\n",
        "                    print(\"Deu erro\")\n",
        "                    continue\n",
        "                break\n",
        "\n",
        "\n",
        "        print(\"=====LISTA=====\")\n",
        "        print(lista)\n",
        "        print(\"=====TOTAL=====\")\n",
        "        print(total)\n",
        "\n",
        "\n",
        "\n",
        "testando=Teste()\n",
        "testando.passa_mercadoria(4)\n",
        "\n"
      ]
    }
  ]
}