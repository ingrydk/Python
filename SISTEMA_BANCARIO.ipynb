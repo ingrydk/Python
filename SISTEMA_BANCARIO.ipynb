{
  "nbformat": 4,
  "nbformat_minor": 0,
  "metadata": {
    "colab": {
      "provenance": [],
      "toc_visible": true,
      "authorship_tag": "ABX9TyPzSrgK9HBtY4yS9Q7+HLmV",
      "include_colab_link": true
    },
    "kernelspec": {
      "name": "python3",
      "display_name": "Python 3"
    },
    "language_info": {
      "name": "python"
    }
  },
  "cells": [
    {
      "cell_type": "markdown",
      "metadata": {
        "id": "view-in-github",
        "colab_type": "text"
      },
      "source": [
        "<a href=\"https://colab.research.google.com/github/ingrydk/Python/blob/main/SISTEMA_BANCARIO.ipynb\" target=\"_parent\"><img src=\"https://colab.research.google.com/assets/colab-badge.svg\" alt=\"Open In Colab\"/></a>"
      ]
    },
    {
      "cell_type": "markdown",
      "source": [
        "# SOBRE O DESAFIO SISTEMA BANCÁRIO 💸💰\n",
        "Neste desafio você deverá implementar três operações: depósito, saque e extrato para um banco que deseja monetizar suas operações em Python. Será um único cliente, logo não precisa se preocupar com a identificação dele.\n",
        "\n",
        "**💰 Depósito:**\n",
        "*   Valores > 0\n",
        "*   Devem ser armazenados em variável e exibidos em extrato\n",
        "\n",
        "**💰 Saque:**\n",
        "*   Limite de 3 saques diários\n",
        "*   Limite de R$ 500,00 por saque\n",
        "*   Caso não tenha saldo em conta, deve aparecer uma mensagem informando que não será possível realizar o saque\n",
        "*   Todos os saques devem ser armazenados em variável e exibidos em extrato\n",
        "\n",
        "**💰 Extrato:**\n",
        "*   Lista com todos os depósitos e saaques realizados na conta\n",
        "*   No fim, deve exibir o saldo atual na conta\n",
        "*   Formato R$ XXX.XX\n",
        "\n",
        "\n",
        "\n",
        "\n",
        "\n",
        "\n",
        "\n",
        "\n",
        "\n",
        "\n"
      ],
      "metadata": {
        "id": "zt7cDm_bkIjM"
      }
    },
    {
      "cell_type": "code",
      "execution_count": null,
      "metadata": {
        "id": "khfYsRIKkE7I"
      },
      "outputs": [],
      "source": [
        "#---------------------DESAFIO DIO-----------------------------------#\n",
        "#-------------------SISTEMA BANCÁRIO--------------------------------#\n",
        "limite_diario = 0\n",
        "lista_depositos=[]\n",
        "lista_saques=[]\n",
        "LIMITE_SAQUE = 500\n",
        "saldo = 1500.63\n",
        "extrato = \"\"\n",
        "menu_geral = '''\n",
        "    =======💰Menu💰=======\n",
        "    Digite a opção desejada\n",
        "    [1] Saque \n",
        "    [2] Depósito\n",
        "    [3] Extrato\n",
        "\n",
        "'''\n",
        "\n",
        "menu_saque = '''\n",
        "  ================💰Menu💰================\n",
        "    A opção de desejada foi saque.\n",
        "    Favor, informe o valor a ser retirado.\n",
        "'''\n",
        "menu_deposito = '''\n",
        "  ================💰Menu💰================\n",
        "    A opção de desejada foi deposito.\n",
        "    Favor, informe o valor a ser depositado.\n",
        "'''\n",
        "while True:\n",
        "#executando o menu\n",
        "    escolha=int(input(menu_geral))\n",
        "\n",
        "    \n",
        "\n",
        "#executando o saque\n",
        "    if escolha == 1:\n",
        "        limite_diario=limite_diario+1\n",
        "        valor_saque = float(input(f'Seu saldo é R${saldo:.2f}. Qual valor gostaria de sacar?  R$'))\n",
        "        if valor_saque > 500:\n",
        "            print(\"Operação inválida. Valor superior ao limite de saque.\")\n",
        "            \n",
        "        if valor_saque > saldo:\n",
        "            print(\"Operação cancelada. Seu saldo é inferior ao valor que gostaria de sacar.\")\n",
        "        \n",
        "        elif valor_saque <= 500 and valor_saque <= saldo:\n",
        "        \n",
        "            if limite_diario > 3:\n",
        "                print(\"Operação cancelada. Você atingiu o limite diário de saque.\")\n",
        "            else:\n",
        "                saldo=saldo-valor_saque\n",
        "                print(f'O valor de {valor_saque} esta sendo sacado. Seu novo saldo é igual a R${saldo:.2f}.')\n",
        "                extrato += (f'\\nSaque: R$ -{valor_saque:.2f}')\n",
        "\n",
        "#executando o depósito        \n",
        "    elif escolha == 2:\n",
        "        print(menu_deposito)\n",
        "        valor_deposito = float(input(\"Qual valor será depositado?  R$\"))\n",
        "        if valor_deposito > 0:\n",
        "            saldo = saldo + valor_deposito\n",
        "            print(f'Você está depositando R${valor_deposito} na sua conta. Seu novo saldo é igual a R${saldo:.2f}')\n",
        "            extrato += (f'\\nDepósito: R$ {valor_deposito:.2f}')\n",
        "            \n",
        "    \n",
        "        elif valor_deposito < 0:\n",
        "            print(\"Operação inválida. O valor de depósito precisa ser superior a zero.\")\n",
        "\n",
        "#executando o extrato  \n",
        "    \n",
        "\n",
        "    elif escolha == 3:\n",
        "\n",
        "        inicio_extrato = \"EXTRATO\"\n",
        "        print(inicio_extrato.center(30,\"=\"))\n",
        "        print(f'Não houve movimentação.' if not extrato else extrato)\n",
        "        print(f'SALDO EM CONTA: R$ {saldo:.2f}')\n",
        "        \n"
      ]
    }
  ]
}