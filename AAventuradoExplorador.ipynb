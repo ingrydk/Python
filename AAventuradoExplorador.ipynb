{
  "nbformat": 4,
  "nbformat_minor": 0,
  "metadata": {
    "colab": {
      "provenance": [],
      "authorship_tag": "ABX9TyOhMXZGb+7Fi25qD0N58JrK",
      "include_colab_link": true
    },
    "kernelspec": {
      "name": "python3",
      "display_name": "Python 3"
    },
    "language_info": {
      "name": "python"
    }
  },
  "cells": [
    {
      "cell_type": "markdown",
      "metadata": {
        "id": "view-in-github",
        "colab_type": "text"
      },
      "source": [
        "<a href=\"https://colab.research.google.com/github/ingrydk/Python/blob/main/AAventuradoExplorador.ipynb\" target=\"_parent\"><img src=\"https://colab.research.google.com/assets/colab-badge.svg\" alt=\"Open In Colab\"/></a>"
      ]
    },
    {
      "cell_type": "markdown",
      "source": [
        "# **Desafio**\n",
        "\n",
        "Você é um intrépido explorador em uma jornada por uma terra desconhecida repleta de desafios emocionantes. Ao se deparar com uma floresta misteriosa, você percebe que a única maneira de atravessá-la é desvendando seus caminhos por meio de um código em Python. Prepare-se para a \"Aventura do Explorador\"!\n",
        "\n",
        "**Entrada**\n",
        "\n",
        "Seu programa deve solicitar ao usuário a entrada de um número inteiro positivo, representando a quantidade de passos que o explorador deve dar na floresta.\n",
        "\n",
        "**Saída**\n",
        "\n",
        "O programa deve imprimir uma mensagem indicando o progresso do explorador na floresta. Utilize um laço de repetição para simular os passos do explorador. A cada passo, imprima uma mensagem informando a distância percorrida até o momento.\n",
        "\n",
        "**Exemplos**\n",
        "\n",
        "A tabela abaixo apresenta exemplos com alguns dados de entrada e suas respectivas saídas esperadas. Certifique-se de testar seu programa com esses exemplos e com outros casos possíveis.\n",
        "\n",
        "![image.png](data:image/png;base64,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)\n",
        "\n",
        "\n",
        "\n",
        "```\n",
        "quantidade_passos = int(input())\n",
        "\n",
        "\n",
        "if quantidade_passos > 0:\n",
        "  for i in range (quantidade_passos):\n",
        "    print(f\"Explorador: {i+1} passo{'s' if i > 0 else ''}\")\n",
        "elif quantidade_passos == 0:\n",
        "  print(\"Nenhum passo dado na floresta.\")\n",
        "```\n",
        "\n"
      ],
      "metadata": {
        "id": "vmYCvhVchic2"
      }
    },
    {
      "cell_type": "code",
      "execution_count": null,
      "metadata": {
        "id": "ObuEe6VxhR6C"
      },
      "outputs": [],
      "source": [
        "quantidade_passos = int(input())\n",
        "\n",
        "\n",
        "if quantidade_passos > 0:\n",
        "  for i in range (quantidade_passos):\n",
        "    print(f\"Explorador: {i+1} passo{'s' if i > 0 else ''}\")\n",
        "elif quantidade_passos == 0:\n",
        "  print(\"Nenhum passo dado na floresta.\")"
      ]
    }
  ]
}