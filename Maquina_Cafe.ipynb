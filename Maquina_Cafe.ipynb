{
  "nbformat": 4,
  "nbformat_minor": 0,
  "metadata": {
    "colab": {
      "provenance": [],
      "authorship_tag": "ABX9TyNZD5/Na8737y2uYAucmuU9",
      "include_colab_link": true
    },
    "kernelspec": {
      "name": "python3",
      "display_name": "Python 3"
    },
    "language_info": {
      "name": "python"
    }
  },
  "cells": [
    {
      "cell_type": "markdown",
      "metadata": {
        "id": "view-in-github",
        "colab_type": "text"
      },
      "source": [
        "<a href=\"https://colab.research.google.com/github/ingrydk/Python/blob/main/Maquina_Cafe.ipynb\" target=\"_parent\"><img src=\"https://colab.research.google.com/assets/colab-badge.svg\" alt=\"Open In Colab\"/></a>"
      ]
    },
    {
      "cell_type": "markdown",
      "source": [
        "# **Máquina de café em POO**"
      ],
      "metadata": {
        "id": "Q7mxcr1bNfu4"
      }
    },
    {
      "cell_type": "code",
      "execution_count": null,
      "metadata": {
        "id": "L8kG16KkNVsz"
      },
      "outputs": [],
      "source": [
        "class MaquinaCafe:\n",
        "    def __init__(self):\n",
        "        self.q_agua=0\n",
        "        self.q_cafe=0\n",
        "        self.q_leite=0\n",
        "        self.funcionamento = False\n",
        "\n",
        "    def status(self,maquina_ligada):\n",
        "        self.maquina_ligada = maquina_ligada\n",
        "        if maquina_ligada == False:\n",
        "            print(\"Máquina Desligada\")\n",
        "        else:\n",
        "            print(\"------------------------------\\n       Maquina Ligada\\n------------------------------\")\n",
        "            print(\"------------MENU--------------\\n(1) CAFE COADO\\n(2)CAFE COM LEITE\\n(3)LEITE QUENTE\")\n",
        "\n",
        "    def estado(self):\n",
        "        if self.q_agua == 0 and self.q_cafe == 0 and self.q_leite ==0:\n",
        "            print(\"Adicione água, pó de café e leite para funcionar\\n------------------------------\")\n",
        "            self.funcionamento = False\n",
        "\n",
        "        elif self.q_agua >= 50 and self.q_cafe ==0 and self.q_leite==0:\n",
        "            print(\"Adicione pó de café e leite para funcionar\\n------------------------------\")\n",
        "            self.funcionamento = False\n",
        "\n",
        "        elif self.q_agua >=50 and self.q_cafe >= 50 and self.q_leite ==0:\n",
        "            print(\"Adicione leite para funcionar\\n------------------------------\")\n",
        "            self.funcionamento = False\n",
        "\n",
        "        elif self.q_agua >= 50 and self.q_cafe == 0 and self.q_leite >= 50:\n",
        "            print(\"Adicione pó de café para funcionar\\n------------------------------\")\n",
        "            self.funcionamento = False\n",
        "\n",
        "        elif self.q_agua ==0 and self.q_cafe >= 50 and self.q_leite >= 50:\n",
        "            print(\"Adicione água para funcionar\\n------------------------------\")\n",
        "            self.funcionamento = False\n",
        "\n",
        "        elif self.q_agua >=50 and self.q_cafe >= 50 and self.q_leite >= 50:\n",
        "            print(\"Máquina pronta para funcionar\\n------------------------------\")\n",
        "            self.funcionamento = True\n",
        "\n",
        "    def add_agua(self, agua):\n",
        "        self.q_agua += agua\n",
        "\n",
        "    def add_cafe(self, cafe):\n",
        "        self.q_cafe += cafe\n",
        "\n",
        "    def add_leite(self, leite):\n",
        "        self.q_leite += leite\n",
        "\n",
        "    def tipo(self, tipo):\n",
        "        self.tipo = tipo\n",
        "        if self.tipo == 1 and self.maquina_ligada == True and self.funcionamento ==True :\n",
        "            self.q_cafe -= 100\n",
        "            self.q_agua -= 50\n",
        "            print(\"Coado saindo...\")\n",
        "\n",
        "        if self.tipo == 2 and self.botao == True and self.funcionamento ==True :\n",
        "            self.q_cafe -= 50\n",
        "            self.q_agua -= 25\n",
        "            self.q_leite -= 200\n",
        "            print(\"Café com leite saindo...\")\n",
        "\n",
        "        if self.tipo == 3 and self.botao == True and self.funcionamento ==True :\n",
        "            self.q_leite -= 300\n",
        "            print(\"Leite quente saindo...\")\n",
        "\n"
      ]
    },
    {
      "cell_type": "markdown",
      "source": [
        "**Testando código logo abaixo**"
      ],
      "metadata": {
        "id": "mgbG8rmkNdyn"
      }
    },
    {
      "cell_type": "code",
      "source": [
        "maquina1 = MaquinaCafe()\n",
        "maquina1.status(True)\n",
        "maquina1.add_agua(2000)\n",
        "maquina1.add_cafe(2000)\n",
        "maquina1.add_leite(2000)\n",
        "maquina1.estado()\n",
        "maquina1.tipo(1)\n"
      ],
      "metadata": {
        "id": "8E_FDIYuNiYT"
      },
      "execution_count": null,
      "outputs": []
    }
  ]
}